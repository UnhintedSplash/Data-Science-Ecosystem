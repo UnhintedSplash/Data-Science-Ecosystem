{
 "cells": [
  {
   "cell_type": "markdown",
   "metadata": {},
   "source": [
    "<center>\n",
    "    <img src=\"https://cf-courses-data.s3.us.cloud-object-storage.appdomain.cloud/IBMDeveloperSkillsNetwork-DS0105EN-SkillsNetwork/labs/Module2/images/SN_web_lightmode.png\" width=\"300\" alt=\"cognitiveclass.ai logo\">\n",
    "</center>\n"
   ]
  },
  {
   "cell_type": "markdown",
   "metadata": {},
   "source": [
    "#### Add your code below following the instructions given in the course\n"
   ]
  },
  {
   "cell_type": "markdown",
   "metadata": {},
   "source": [
    "# Instructions\n",
    "- **Exercise 1: Create a Jupyter Notebook**\n",
    "- **Exercise 2: Create markdown cell with title of the notebook**\n",
    "- **Exercise 3: Create a markdown cell for an introduction**\n",
    "- **Exercise 4 - Create a markdown cell to list data science languages**\n",
    "- **Exercise 5 - Create a markdown cell to list data science libraries**\n",
    "- **Exercise 6 - Create a markdown cell with a table of Data Science tools**\n",
    "- **Exercise 7 - Create a markdown cell introducing arithmetic expression examples**\n",
    "- **Exercise 8 - Create a code cell to multiply and add numbers**\n",
    "- **Exercise 9 - Create a code cell to convert minutes to hours**\n",
    "- **Exercise 10 - Insert a markdown cell to list Objectives**\n",
    "- **Exercise 11 - Create a markdown cell to indicate the Author's name**\n",
    "- **Exercise 12 - Share your notebook through GitHub**\n",
    "- **Exercise 13 - Take a screenshot of the first page of the notebook and save it as 1-notebook.png**"
   ]
  },
  {
   "cell_type": "markdown",
   "metadata": {},
   "source": [
    "# Data Science Tools and Ecosystem"
   ]
  },
  {
   "cell_type": "markdown",
   "metadata": {},
   "source": [
    "## Author\n",
    "Kabel"
   ]
  },
  {
   "cell_type": "markdown",
   "metadata": {},
   "source": [
    "## Introduction\n",
    "In this notebook, we will summarise the Data Science Tools and Ecosystems."
   ]
  },
  {
   "cell_type": "markdown",
   "metadata": {},
   "source": [
    "**Objectives**\n",
    "- List my top favouourite languages as a Data Scientist\n",
    "- List some awesome libraries that a Data Scientist may use\n",
    "- List some cool data science tools in a table\n",
    "- List some arithmetic expressions using the Python Language"
   ]
  },
  {
   "cell_type": "markdown",
   "metadata": {},
   "source": [
    "My top favourite languages as a Data Scientist are:\n",
    "1. R\n",
    "2. C\n",
    "3. Python\n",
    "4. SQL"
   ]
  },
  {
   "cell_type": "markdown",
   "metadata": {},
   "source": [
    "Let's list some really cool libraries that Data Scientists might use:\n",
    "1. Python's Scikit-Learn\n",
    "2. Python's Pandas\n",
    "3. R's ggplot2\n",
    "4. Python's Seaborn"
   ]
  },
  {
   "cell_type": "markdown",
   "metadata": {},
   "source": [
    "Let's look at some cool data science tools:\n",
    "|Data Science Tools | \n",
    "|-------------------|\n",
    "|Jupyter Notebook|\n",
    "|GitHub|\n",
    "|Apache Spark|"
   ]
  },
  {
   "cell_type": "markdown",
   "metadata": {},
   "source": [
    "### Below I have listed some examples of evaluating arithmetic expressions in the Python Language:"
   ]
  },
  {
   "cell_type": "code",
   "execution_count": 1,
   "metadata": {},
   "outputs": [
    {
     "data": {
      "text/plain": [
       "7"
      ]
     },
     "execution_count": 1,
     "metadata": {},
     "output_type": "execute_result"
    }
   ],
   "source": [
    "3 + 4"
   ]
  },
  {
   "cell_type": "code",
   "execution_count": 7,
   "metadata": {},
   "outputs": [
    {
     "name": "stdout",
     "output_type": "stream",
     "text": [
      "3.0\n"
     ]
    }
   ],
   "source": [
    "a = 4 + 8\n",
    "b = 11 - 7\n",
    "c = a/b\n",
    "print(c)"
   ]
  },
  {
   "cell_type": "code",
   "execution_count": 12,
   "metadata": {},
   "outputs": [
    {
     "data": {
      "text/plain": [
       "17"
      ]
     },
     "execution_count": 12,
     "metadata": {},
     "output_type": "execute_result"
    }
   ],
   "source": [
    "# This is a simple arithmetic expression that uses multiplication and addition :D\n",
    "(3*4)+5"
   ]
  },
  {
   "cell_type": "code",
   "execution_count": 15,
   "metadata": {},
   "outputs": [
    {
     "name": "stdout",
     "output_type": "stream",
     "text": [
      "3.3333333333333335\n"
     ]
    }
   ],
   "source": [
    "# Let's convert minutes to hours. We can convert minutes to hours by dividing the number of minutes by 60\n",
    "minute = 200\n",
    "hours = minute/60\n",
    "print(hours)"
   ]
  },
  {
   "cell_type": "code",
   "execution_count": null,
   "metadata": {},
   "outputs": [],
   "source": []
  }
 ],
 "metadata": {
  "kernelspec": {
   "display_name": "Python 3 (ipykernel)",
   "language": "python",
   "name": "python3"
  },
  "language_info": {
   "codemirror_mode": {
    "name": "ipython",
    "version": 3
   },
   "file_extension": ".py",
   "mimetype": "text/x-python",
   "name": "python",
   "nbconvert_exporter": "python",
   "pygments_lexer": "ipython3",
   "version": "3.12.8"
  }
 },
 "nbformat": 4,
 "nbformat_minor": 4
}
